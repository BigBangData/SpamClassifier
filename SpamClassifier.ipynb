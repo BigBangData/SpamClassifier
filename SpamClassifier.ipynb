{
 "cells": [
  {
   "cell_type": "markdown",
   "metadata": {},
   "source": [
    "# Studying Mr. Geron's Spam Classifier Notebook \n",
    "\n",
    "Code often borrowed from [Aurélien Geron's famous Jupyter Notebook on Classification.](https://github.com/ageron/handson-ml/blob/master/03_classification.ipynb)\n",
    "\n",
    "Data can be pulled from [Apache SpamAssassin's old corpus.](http://spamassassin.apache.org/old/publiccorpus/)\n",
    "\n",
    "### Data Ingestion"
   ]
  },
  {
   "cell_type": "code",
   "execution_count": 1,
   "metadata": {},
   "outputs": [
    {
     "name": "stdout",
     "output_type": "stream",
     "text": [
      "Data successfully downloaded.\n"
     ]
    }
   ],
   "source": [
    "import os\n",
    "import custom_functions as F # see custom module for code\n",
    "\n",
    "date = '20030228'\n",
    "\n",
    "F.get_data_if_needed('spam', 'easy_ham', date)"
   ]
  },
  {
   "cell_type": "code",
   "execution_count": 2,
   "metadata": {},
   "outputs": [
    {
     "name": "stdout",
     "output_type": "stream",
     "text": [
      "There are 2500 ham emails and 500 spam emails.\n"
     ]
    }
   ],
   "source": [
    "data_dir = 'data'\n",
    "spam_dir = os.path.join(data_dir, 'spam')\n",
    "ham_dir = os.path.join(data_dir, 'easy_ham')\n",
    "\n",
    "ham_filenames = [name for name in sorted(os.listdir(ham_dir)) if name != 'cmds']\n",
    "spam_filenames = [name for name in sorted(os.listdir(spam_dir)) if name != 'cmds']\n",
    "\n",
    "print('There are ' +str(len(ham_filenames)) + ' ham emails and ' + str(len(spam_filenames)) + ' spam emails.')"
   ]
  },
  {
   "cell_type": "code",
   "execution_count": 3,
   "metadata": {},
   "outputs": [],
   "source": [
    "# extracting emails\n",
    "spam = F.extract_emails(_path=spam_dir, _names=spam_filenames)\n",
    "ham = F.extract_emails(_path=ham_dir, _names=ham_filenames)"
   ]
  },
  {
   "cell_type": "markdown",
   "metadata": {},
   "source": [
    "### Quick EDA"
   ]
  },
  {
   "cell_type": "markdown",
   "metadata": {},
   "source": [
    "Email headers can be lengthy and contain more than 50% of the information, however, a lot of this information is not standard across headers and also might not be informative for ML on a first pass, except for the Subject and the Content-Type perhaps."
   ]
  },
  {
   "cell_type": "code",
   "execution_count": 4,
   "metadata": {},
   "outputs": [
    {
     "name": "stdout",
     "output_type": "stream",
     "text": [
      "Return-Path               : <martin@srv0.ems.ed.ac.uk>\n",
      "Delivered-To              : zzzz@localhost.netnoteinc.com\n",
      "Received                  : from localhost (localhost [127.0.0.1])\tby phobos.l\n",
      "Received                  : from phobos [127.0.0.1]\tby localhost with IMAP (fe\n",
      "Received                  : from n11.grp.scd.yahoo.com (n11.grp.scd.yahoo.com \n",
      "X-Egroups-Return          : sentto-2242572-52738-1030024499-zzzz=spamassassin.\n",
      "Received                  : from [66.218.66.94] by n11.grp.scd.yahoo.com with \n",
      "X-Sender                  : martin@srv0.ems.ed.ac.uk\n",
      "X-Apparently-To           : zzzzteana@yahoogroups.com\n",
      "Received                  : (EGP: mail-8_1_0_1); 22 Aug 2002 13:54:59 -0000\n",
      "Received                  : (qmail 43039 invoked from network); 22 Aug 2002 13\n",
      "Received                  : from unknown (66.218.66.216) by m1.grp.scd.yahoo.c\n",
      "Received                  : from unknown (HELO haymarket.ed.ac.uk) (129.215.12\n",
      "Received                  : from srv0.ems.ed.ac.uk (srv0.ems.ed.ac.uk [129.215\n",
      "Received                  : from EMS-SRV0/SpoolDir by srv0.ems.ed.ac.uk (Mercu\n",
      "Received                  : from SpoolDir by EMS-SRV0 (Mercury 1.44); 22 Aug 0\n",
      "Organization              : Management School\n",
      "To                        : zzzzteana@yahoogroups.com\n",
      "Message-Id                : <3D64FB27.18538.63DEC17@localhost>\n",
      "Priority                  : normal\n",
      "X-Mailer                  : Pegasus Mail for Windows (v4.01)\n",
      "Content-Description       : Mail message body\n",
      "From                      : Martin Adamson <martin@srv0.ems.ed.ac.uk>\n",
      "MIME-Version              : 1.0\n",
      "Mailing-List              : list zzzzteana@yahoogroups.com; contact    fortean\n",
      "Delivered-To              : mailing list zzzzteana@yahoogroups.com\n",
      "Precedence                : bulk\n",
      "List-Unsubscribe          : <mailto:zzzzteana-unsubscribe@yahoogroups.com>\n",
      "Date                      : Thu, 22 Aug 2002 14:54:25 +0100\n",
      "Subject                   : [zzzzteana] Playboy wants to go out with a bang\n",
      "Reply-To                  : zzzzteana@yahoogroups.com\n",
      "Content-Type              : text/plain; charset=\"ISO-8859-1\"\n",
      "Content-Transfer-Encoding : 8bit\n",
      "X-MIME-Autoconverted      : from quoted-printable to 8bit by dogma.slashnull.o\n"
     ]
    }
   ],
   "source": [
    "# example ham header\n",
    "for header, value in ham[6].items():\n",
    "    padding=25-len(header)\n",
    "    print(header + ' '*padding, ':', value[:50])"
   ]
  },
  {
   "cell_type": "code",
   "execution_count": 5,
   "metadata": {},
   "outputs": [
    {
     "name": "stdout",
     "output_type": "stream",
     "text": [
      "Return-Path               : <jamesalabi@mail.com>\n",
      "Delivered-To              : zzzz@localhost.spamassassin.taint.org\n",
      "Received                  : from localhost (localhost [127.0.0.1])\tby phobos.l\n",
      "Received                  : from phobos [127.0.0.1]\tby localhost with IMAP (fe\n",
      "Received                  : from webnote.net (mail.webnote.net [193.120.211.21\n",
      "Received                  : from ok61094.com ([217.78.76.138]) by webnote.net \n",
      "Message-Id                : <200208241717.SAA16606@webnote.net>\n",
      "From                      : \"Dr.James Ologun\" <jamesalabi@mail.com>\n",
      "Reply-To                  : jamesalabi@mail.com\n",
      "To                        : zzzz-sa-listinfo@spamassassin.taint.org\n",
      "Date                      : Sat, 24 Aug 2002 20:18:02 -0700\n",
      "Subject                   : Immediate Reply Needed\n",
      "X-Mailer                  : Microsoft Outlook Express 5.00.2919.6900 DM\n",
      "MIME-Version              : 1.0\n",
      "Content-Type              : text/plain; charset=\"us-ascii\"\n",
      "X-MIME-Autoconverted      : from quoted-printable to 8bit by dogma.slashnull.o\n",
      "Content-Transfer-Encoding : 8bit\n"
     ]
    }
   ],
   "source": [
    "# example spam header\n",
    "for header, value in spam[83].items():\n",
    "    padding=25-len(header)\n",
    "    print(header + ' '*padding, ':', value[:50])"
   ]
  },
  {
   "cell_type": "code",
   "execution_count": 6,
   "metadata": {},
   "outputs": [
    {
     "name": "stdout",
     "output_type": "stream",
     "text": [
      "The Scotsman - 22 August 2002\n",
      "\n",
      " Playboy wants to go out with a bang \n",
      " \n",
      " \n",
      " AN AGEING Berlin playboy has come up with an unusual offer to lure women into\n",
      " his bed - by promising the last woman he sleeps with an inheritance of 250,000\n",
      " (£160,000). \n",
      " \n",
      " Rolf Eden, 72, a Berlin disco owner famous for his countless sex partners,\n",
      " said he could imagine no better way to die than in the arms of an attractive\n",
      " young woman - preferably under 30. \n",
      " \n",
      " \"I put it all in my last will and testament - the last woman who sleeps with\n",
      " me gets all the money,\" Mr Eden told Bild newspaper. \n",
      " \n",
      " \"I want to pass away in the most beautiful moment of my life. First a lot of\n",
      " fun with a beautiful woman, then wild sex, a final orgasm - and it will all\n",
      " end with a heart attack and then Im gone.\" \n",
      " \n",
      " Mr Eden, who is selling his nightclub this year, said applications should be\n",
      " sent in quickly because of his age. \"It could end very soon,\" he said.\n",
      "\n",
      "\n",
      "------------------------ Yahoo! Groups Sponsor ---------------------~-->\n",
      "4 DVDs Free +s&p Join Now\n",
      "http://us.click.yahoo.com/pt6YBB/NXiEAA/mG3HAA/7gSolB/TM\n",
      "---------------------------------------------------------------------~->\n",
      "\n",
      "To unsubscribe from this group, send an email to:\n",
      "forteana-unsubscribe@egroups.com\n",
      "\n",
      " \n",
      "\n",
      "Your use of Yahoo! Groups is subject to http://docs.yahoo.com/info/terms/\n"
     ]
    }
   ],
   "source": [
    "# example ham body\n",
    "print(ham[6].get_content().strip())"
   ]
  },
  {
   "cell_type": "code",
   "execution_count": 7,
   "metadata": {},
   "outputs": [
    {
     "name": "stdout",
     "output_type": "stream",
     "text": [
      "Dear Sir,\n",
      "\n",
      "I am Dr James Alabi, the chairman of contract\n",
      "award and review committee set up by the federal\n",
      "government of Nigeria under the new civilian\n",
      "dispensation to award new contracts and review\n",
      "existing ones.\n",
      "I came to know of you in my search for a reliable and\n",
      "reputable person to handle a very confidential\n",
      "transaction, which involves the transfer of a huge\n",
      "sum of money to a foreign account. \n",
      "\n",
      "There were series of contracts executed by a \n",
      "consortium of multi-nationals in the oil industry in\n",
      "favor of N.N.P.C. The original values of these \n",
      "contracts were deliberately over invoiced to the sum\n",
      "of US$12,320,000.00 (Twelve Million Three Hundred and Twenty Thousand \n",
      "United\n",
      "State Dollars). This amount has now been approved and\n",
      "is now ready to be transferred being that the\n",
      "companies\n",
      "that actually executed these contracts have been\n",
      "fully Paid and the projects officially commissioned. \n",
      "\n",
      "\n",
      "Consequently, my colleagues and I are willing to \n",
      "transfer the total amount to your account for\n",
      "subsequent disbursement, since we as civil servants\n",
      "are prohibited by the code of conduct bureau (civil\n",
      "service law) from operating and/or opening foreign \n",
      "accounts in our names. Needless to say, the trust\n",
      "reposed on you at this juncture is enormous, in \n",
      "return, we have agreed to offer you 20% of the \n",
      "transferred sum, while 10% shall be set aside for\n",
      "incidental expenses (internal and external) between\n",
      "both parties in the course of the transaction you will\n",
      "be mandated to remit the balance to other accounts\n",
      "in due course. \n",
      "\n",
      "Modalities have been worked out at the highest level\n",
      "of the Ministry of Finance and the Central Bank of \n",
      "Nigeria for the immediate transfer of the funds\n",
      "within 7 working days subject to your satisfaction of\n",
      "the above stated terms. \n",
      "Our assurance is that your role is risk free. To \n",
      "\n",
      "accord this transaction the legality it deserves and\n",
      "for mutual security of the funds the whole approval\n",
      "procedures will officially and legally processed\n",
      "with your name or the name of any company you may\n",
      "nominate as the bonefide beneficiary. \n",
      "Once more I want you to understand that having put\n",
      "in over twenty-five years in the civil service of my\n",
      "country, I am averse to having my image and career \n",
      "dented. This matter should therefore be treated with\n",
      "utmost secrecy and urgency it deserves. \n",
      "\n",
      "Please you should signify your intention to assist\n",
      "by sending me a reply to this email to state your position on this\n",
      "transaction, if favorable we will take further steps\n",
      "to brief you the full details of this viable \n",
      "transaction. \n",
      "I want to assure you that this business proposal is\n",
      "100% risk free as we have done our homework\n",
      "properly. \n",
      "\n",
      "I quite believe that you will protect our interest\n",
      "by taking this deal strictly confidential, as we are\n",
      "still in government service, which we intend to\n",
      "retire from in full honor.\n",
      "\n",
      "Kindly expedite action as we are behind schedule to\n",
      "enable us include this transfer in the next batch\n",
      "which would constitute the new quarter payments\n",
      "for the 2002 financial year. \n",
      "\n",
      "Thank you and God bless.\n",
      "\n",
      "Dr James Alabi\n"
     ]
    }
   ],
   "source": [
    "# example spam body\n",
    "print(spam[83].get_content().strip())"
   ]
  },
  {
   "cell_type": "markdown",
   "metadata": {},
   "source": [
    "---\n",
    "\n",
    "**Email Structures can be complex.**"
   ]
  },
  {
   "cell_type": "code",
   "execution_count": 8,
   "metadata": {},
   "outputs": [
    {
     "data": {
      "text/plain": [
       "[<email.message.EmailMessage at 0x1d579280128>,\n",
       " <email.message.EmailMessage at 0x1d5792729e8>]"
      ]
     },
     "execution_count": 8,
     "metadata": {},
     "output_type": "execute_result"
    }
   ],
   "source": [
    "# payload can return single email or a list of objects\n",
    "ham[13].get_payload()"
   ]
  },
  {
   "cell_type": "code",
   "execution_count": 9,
   "metadata": {},
   "outputs": [
    {
     "name": "stdout",
     "output_type": "stream",
     "text": [
      "text/plain\n",
      "application/pgp-signature\n"
     ]
    }
   ],
   "source": [
    "# an email.message can be text/plain, text/html, and various other categories\n",
    "for email in ham[13].get_payload():\n",
    "    print(email.get_content_type())"
   ]
  },
  {
   "cell_type": "code",
   "execution_count": 10,
   "metadata": {},
   "outputs": [
    {
     "name": "stdout",
     "output_type": "stream",
     "text": [
      "2408: text/plain\n",
      "  66: multipart(text/plain | application/pgp-signature)\n",
      "   8: multipart(text/plain | text/html)\n",
      "   4: multipart(text/plain | text/plain)\n",
      "   3: multipart(text/plain)\n",
      "   2: multipart(text/plain | application/octet-stream)\n",
      "   1: multipart(text/plain | text/enriched)\n",
      "   1: multipart(text/plain | application/ms-tnef | text/plain)\n",
      "   1: multipart(multipart(text/plain | text/plain | text/plain) | application/pgp-signature)\n",
      "   1: multipart(text/plain | video/mng)\n",
      "   1: multipart(text/plain | multipart(text/plain))\n",
      "   1: multipart(text/plain | application/x-pkcs7-signature)\n",
      "   1: multipart(text/plain | multipart(text/plain | text/plain) | text/rfc822-headers)\n",
      "   1: multipart(text/plain | multipart(text/plain | text/plain) | multipart(multipart(text/plain | application/x-pkcs7-signature)))\n",
      "   1: multipart(text/plain | application/x-java-applet)\n"
     ]
    }
   ],
   "source": [
    "# using Mr.Geron's nifty structure counters (see custom code)\n",
    "\n",
    "# most common ham structures\n",
    "for i in F.structures_counter(ham).most_common():\n",
    "    padding = 4-len(str(i[1]))\n",
    "    print(' '*padding + str(i[1]) + ': ' +i[0])"
   ]
  },
  {
   "cell_type": "code",
   "execution_count": 11,
   "metadata": {},
   "outputs": [
    {
     "name": "stdout",
     "output_type": "stream",
     "text": [
      " 218: text/plain\n",
      " 183: text/html\n",
      "  45: multipart(text/plain | text/html)\n",
      "  20: multipart(text/html)\n",
      "  19: multipart(text/plain)\n",
      "   5: multipart(multipart(text/html))\n",
      "   3: multipart(text/plain | image/jpeg)\n",
      "   2: multipart(text/html | application/octet-stream)\n",
      "   1: multipart(text/plain | application/octet-stream)\n",
      "   1: multipart(text/html | text/plain)\n",
      "   1: multipart(multipart(text/html) | application/octet-stream | image/jpeg)\n",
      "   1: multipart(multipart(text/plain | text/html) | image/gif)\n",
      "   1: multipart/alternative\n"
     ]
    }
   ],
   "source": [
    "# most common spam structures\n",
    "for i in F.structures_counter(spam).most_common():\n",
    "    padding = 4-len(str(i[1]))\n",
    "    print(' '*padding + str(i[1]) + ': ' +i[0])"
   ]
  },
  {
   "cell_type": "markdown",
   "metadata": {},
   "source": [
    "### Split into Training and Test datasets\n",
    "\n",
    "We need to split the traing and test sets before gaining too much information on the test set and biasing ourselves in creating the features for the training set."
   ]
  },
  {
   "cell_type": "code",
   "execution_count": 12,
   "metadata": {},
   "outputs": [],
   "source": [
    "import numpy as np\n",
    "from sklearn.model_selection import train_test_split\n",
    "\n",
    "X = np.array(ham + spam)\n",
    "y = np.array([0] * len(ham) + [1] * len(spam))\n",
    "\n",
    "X_train, X_test, y_train, y_test = train_test_split(X, y, test_size=0.2, random_state=42)"
   ]
  },
  {
   "cell_type": "code",
   "execution_count": 23,
   "metadata": {},
   "outputs": [],
   "source": [
    "# Mr.Geron's nifty regex to convert HTML into plaintext\n",
    "import re\n",
    "from html import unescape\n",
    "\n",
    "def html_to_plaintext(html):\n",
    "    text = re.sub('<head.*?>.*?</head>', '', html, flags=re.M | re.S | re.I)\n",
    "    text = re.sub('<a\\s.*?>', ' HYPERLINK ', text, flags=re.M | re.S | re.I)\n",
    "    text = re.sub('<.*?>', '', text, flags=re.M | re.S)\n",
    "    text = re.sub(r'(\\s*\\n)+', '\\n', text, flags=re.M | re.S)\n",
    "    return unescape(text)"
   ]
  },
  {
   "cell_type": "code",
   "execution_count": 24,
   "metadata": {},
   "outputs": [
    {
     "name": "stdout",
     "output_type": "stream",
     "text": [
      "<HTML><HEAD><TITLE></TITLE><META http-equiv=\"Content-Type\" content=\"text/html; charset=windows-1252\"><STYLE>A:link {TEX-DECORATION: none}A:active {TEXT-DECORATION: none}A:visited {TEXT-DECORATION: none}A:hover {COLOR: #0033ff; TEXT-DECORATION: underline}</STYLE><META content=\"MSHTML 6.00.2713.1100\" name=\"GENERATOR\"></HEAD>\n",
      "<BODY text=\"#000000\" vLink=\"#0033ff\" link=\"#0033ff\" bgColor=\"#CCCC99\"><TABLE borderColor=\"#660000\" cellSpacing=\"0\" cellPadding=\"0\" border=\"0\" width=\"100%\"><TR><TD bgColor=\"#CCCC99\" valign=\"top\" colspan=\"2\" height=\"27\">\n",
      "<font size=\"6\" face=\"Arial, Helvetica, sans-serif\" color=\"#660000\">\n",
      "<b>OTC</b></font></TD></TR><TR><TD height=\"2\" bgcolor=\"#6a694f\">\n",
      "<font size=\"5\" face=\"Times New Roman, Times, serif\" color=\"#FFFFFF\">\n",
      "<b>&nbsp;Newsletter</b></font></TD><TD height=\"2\" bgcolor=\"#6a694f\"><div align=\"right\"><font color=\"#FFFFFF\">\n",
      "<b>Discover Tomorrow's Winners&nbsp;</b></font></div></TD></TR><TR><TD height=\"25\" colspan=\"2\" bgcolor=\"#CCCC99\"><table width=\"100%\" border=\"0\" cellspacing=\"0\" cellpadding=\"5\"><tr><td valign=\"middle\" height=\"2\"><table width=\"300\" border=\"1\" cellspacing=\"0\" cellpadding=\"0\" bordercolor=\"#660000\" bgcolor=\"#EBEDCB\" height=\"5\" align=\"center\"><tr><td valign=\"middle\" height=\"8\"><div align=\"center\">\n",
      "<font face=\"Arial, Helvetica, sans-serif\" color=\"#660000\" size=\"5\">\n",
      "<b>For Immediate Release</b></font></div></td></tr></table></td></tr><tr><td><table width=\"100%\" border=\"1\" cellspacing=\"0\" cellpadding=\"8\" align=\"center\" bgcolor=\"#fafaf5\" bordercolor=\"#660000\"><tr><td bgcolor=\"#fafaf5\" valign=\"top\" height=\"453\">\n",
      "<p><font face=\"Verdana, Arial, Helvetica, sans-serif\" size=\"-1\">\n",
      "<b>Cal-Bay (Stock Symbol: CBYI)</b>\n",
      "<br>Watch for analyst \"Strong Buy Recommendations\" and several advisory newsletters picking CBYI.  CBYI has filed to be traded on the OTCBB, share prices historically INCREASE when companies get listed on this larger trading exchange. CBYI is trading around 25 cents and should skyrocket to $2.66 - $3.25 a share in the near future.<br>\n",
      "<b><i>Put CBYI on your watch list, acquire a position TODAY.</i></b></font></p>\n",
      "<p><font face=\"Verdana, Arial, Helvetica, sans-serif\" size=\"-1\">\n",
      "<b>REASONS TO INVEST IN CBYI</b></font>\n",
      "<li><font face=\"Verdana, Arial, Helvetica, sans-serif\" size=\"-1\">\n",
      "A profitable company and is on track to beat ALL earnings estimates!</font>\n",
      "<li><font face=\"Verdana, Arial, Helvetica, sans-serif\" size=\"-1\">\n",
      "One of the FASTEST growing distributors in environmental &amp; safety equipment instruments.</font>\n",
      "<li><font face=\"Verdana, Arial, Helvetica, sans-serif\" color=\"#000000\" size=\"-1\">\n",
      "Excellent management team, several EXCLUSIVE contracts.  IMPRESSIVE client list including the U.S. Air Force, Anheuser-Busch, Chevron Refining and Mitsubishi Heavy Industries, GE-Energy &amp; Environmental Research.</font>\n",
      "<p><font face=\"Verdana, Arial, Helvetica, sans-serif\" size=\"-1\">\n",
      "<b>RAPIDLY GROWING INDUSTRY</b>\n",
      "<br>Industry revenues exceed $900 million, estimates indicate that there could be as much as $25 billion ...\n"
     ]
    }
   ],
   "source": [
    "HTML_spam = [email for email in X_train[y_train==1] if email.get_content_type() == \"text/html\"]\n",
    "print(HTML_spam[7].get_content().strip()[:3004], \"...\")"
   ]
  },
  {
   "cell_type": "code",
   "execution_count": 25,
   "metadata": {},
   "outputs": [
    {
     "name": "stdout",
     "output_type": "stream",
     "text": [
      "\n",
      "OTC\n",
      " Newsletter\n",
      "Discover Tomorrow's Winners \n",
      "For Immediate Release\n",
      "Cal-Bay (Stock Symbol: CBYI)\n",
      "Watch for analyst \"Strong Buy Recommendations\" and several advisory newsletters picking CBYI.  CBYI has filed to be traded on the OTCBB, share prices historically INCREASE when companies get listed on this larger trading exchange. CBYI is trading around 25 cents and should skyrocket to $2.66 - $3.25 a share in the near future.\n",
      "Put CBYI on your watch list, acquire a position TODAY.\n",
      "REASONS TO INVEST IN CBYI\n",
      "A profitable company and is on track to beat ALL earnings estimates!\n",
      "One of the FASTEST growing distributors in environmental & safety equipment instruments.\n",
      "Excellent management team, several EXCLUSIVE contracts.  IMPRESSIVE client list including the U.S. Air Force, Anheuser-Busch, Chevron Refining and Mitsubishi Heavy Industries, GE-Energy & Environmental Research.\n",
      "RAPIDLY GROWING INDUSTRY\n",
      "Industry revenues exceed $900 million, estimates indicate that there could be as much as $25 billion ...\n"
     ]
    }
   ],
   "source": [
    "print(html_to_plaintext(HTML_spam[7].get_content())[:1002], \"...\")"
   ]
  },
  {
   "cell_type": "code",
   "execution_count": 19,
   "metadata": {},
   "outputs": [],
   "source": [
    "# a function to perform this conversion whether the content is in HTML or not, \n",
    "# the walk() method is used to crawl through the email structures and check that \n",
    "# they are HTML or text and return a plaintext version regardless\n",
    "def email_to_text(email):\n",
    "    html = None\n",
    "    for part in email.walk():\n",
    "        ctype = part.get_content_type()\n",
    "        if not ctype in (\"text/plain\", \"text/html\"):\n",
    "            continue\n",
    "        try:\n",
    "            content = part.get_content()\n",
    "        except: # in case of encoding issues\n",
    "            content = str(part.get_payload())\n",
    "        if ctype == \"text/plain\":\n",
    "            return content\n",
    "        else:\n",
    "            html = content\n",
    "    if html:\n",
    "        return html_to_plaintext(html)"
   ]
  },
  {
   "cell_type": "markdown",
   "metadata": {},
   "source": [
    "### Stemming"
   ]
  },
  {
   "cell_type": "code",
   "execution_count": 30,
   "metadata": {},
   "outputs": [
    {
     "name": "stdout",
     "output_type": "stream",
     "text": [
      "Conform     => conform\n",
      "Conformity  => conform\n",
      "Confusion   => confus\n",
      "Confusing   => confus\n",
      "Confer      => confer\n",
      "Conferred   => confer\n",
      "Confabulate => confabul\n"
     ]
    }
   ],
   "source": [
    "try:\n",
    "    import nltk\n",
    "\n",
    "    stemmer = nltk.PorterStemmer()\n",
    "    wordlen = 0\n",
    "    for word in (\"Conform\", \"Conformity\", \"Confusion\", \"Confusing\", \"Confer\", \"Conferred\", \"Confabulate\"):       \n",
    "        padding = 11-len(word)\n",
    "        print(word +padding*' ' + \" => \" +stemmer.stem(word))\n",
    "except ImportError:\n",
    "    print(\"Error: stemming requires the NLTK module.\")\n",
    "    stemmer = None"
   ]
  },
  {
   "cell_type": "code",
   "execution_count": 31,
   "metadata": {},
   "outputs": [
    {
     "name": "stdout",
     "output_type": "stream",
     "text": [
      "['github.com', 'https://youtu.be/7Pq-S557XQU?t=3m32s']\n"
     ]
    }
   ],
   "source": [
    "try:\n",
    "    import urlextract \n",
    "    url_extractor = urlextract.URLExtract()\n",
    "    print(url_extractor.find_urls(\"Will it detect github.com and https://youtu.be/7Pq-S557XQU?t=3m32s\"))\n",
    "except ImportError:\n",
    "    print(\"Error: replacing URLs requires the urlextract module.\")\n",
    "    url_extractor = None"
   ]
  },
  {
   "cell_type": "markdown",
   "metadata": {},
   "source": [
    "### Email to Word Counter\n",
    "\n",
    "Mr. Geron:\n",
    "\n",
    "\"*We are ready to put all this together into a transformer that we will use to convert emails to word counters. Note that we split sentences into words using Python's `split()` method, which uses whitespaces for word boundaries. This works for many written languages, but not all. For example, Chinese and Japanese scripts generally don't use spaces between words, and Vietnamese often uses spaces even between syllables. It's okay in this exercise, because the dataset is (mostly) in English.*\""
   ]
  },
  {
   "cell_type": "code",
   "execution_count": 40,
   "metadata": {},
   "outputs": [],
   "source": [
    "from sklearn.base import BaseEstimator, TransformerMixin\n",
    "\n",
    "class EmailToWordCounterTransformer(BaseEstimator, TransformerMixin):\n",
    "\n",
    "    def __init__(self, strip_headers=True, lower_case=True, remove_punctuation=True,\n",
    "                 replace_urls=True, replace_numbers=True, stemming=True):\n",
    "        self.strip_headers = strip_headers\n",
    "        self.lower_case = lower_case\n",
    "        self.remove_punctuation = remove_punctuation\n",
    "        self.replace_urls = replace_urls\n",
    "        self.replace_numbers = replace_numbers\n",
    "        self.stemming = stemming\n",
    "        \n",
    "    def fit(self, X, y=None):\n",
    "        return self\n",
    "    \n",
    "    def transform(self, X, y=None):\n",
    "        \n",
    "        from collections import Counter\n",
    "        \n",
    "        X_transformed = []\n",
    "        \n",
    "        for email in X:\n",
    "            text = email_to_text(email) or \"\"\n",
    "            \n",
    "            if self.lower_case:\n",
    "                text = text.lower()\n",
    "                \n",
    "            if self.replace_urls and url_extractor is not None:\n",
    "                urls = list(set(url_extractor.find_urls(text)))\n",
    "                urls.sort(key=lambda url: len(url), reverse=True)\n",
    "                for url in urls:\n",
    "                    text = text.replace(url, \" URL \")\n",
    "                    \n",
    "            if self.replace_numbers:\n",
    "                text = re.sub(r'\\d+(?:\\.\\d*(?:[eE]\\d+))?', 'NUMBER', text)\n",
    "                \n",
    "            if self.remove_punctuation:\n",
    "                text = re.sub(r'\\W+', ' ', text, flags=re.M)\n",
    "                \n",
    "            word_counts = Counter(text.split())\n",
    "            \n",
    "            if self.stemming and stemmer is not None:\n",
    "                stemmed_word_counts = Counter()\n",
    "                for word, count in word_counts.items():\n",
    "                    stemmed_word = stemmer.stem(word)\n",
    "                    stemmed_word_counts[stemmed_word] += count\n",
    "                word_counts = stemmed_word_counts\n",
    "                \n",
    "            X_transformed.append(word_counts)\n",
    "            \n",
    "        return np.array(X_transformed)"
   ]
  },
  {
   "cell_type": "code",
   "execution_count": 41,
   "metadata": {},
   "outputs": [
    {
     "name": "stdout",
     "output_type": "stream",
     "text": [
      "\n",
      "Some interesting quotes...\n",
      "\n",
      "http://www.postfun.com/pfp/worbois.html\n",
      "\n",
      "\n",
      "Thomas Jefferson:\n",
      "\n",
      "\"I have examined all the known superstitions of the word, and I do not\n",
      "find in our particular superstition of Christianity one redeeming feature.\n",
      "They are all alike founded on fables and mythology. Millions of innocent\n",
      "men, women and children, since the introduction of Christianity, have been\n",
      "burnt, tortured, fined and imprisoned. What has been the effect of this\n",
      "coercion? To make one half the world fools and the other half hypocrites;\n",
      "to support roguery and error all over the earth.\"\n",
      "\n",
      "SIX HISTORIC AMERICANS,\n",
      "by John E. Remsburg, letter to William Short\n",
      "Jefferson again:\n",
      "\n",
      "\"Christianity...(has become) the most perverted system that ever shone on\n",
      "man. ...Rogueries, absurdities and untruths were perpetrated upon the\n",
      "teachings of Jesus by a large band of dupes and importers led by Paul, the\n",
      "first great corrupter of the teaching of Jesus.\"\n",
      "\n",
      "\n",
      "\n"
     ]
    }
   ],
   "source": [
    "exampleX = X_train[1]\n",
    "\n",
    "print(exampleX.get_content())"
   ]
  },
  {
   "cell_type": "code",
   "execution_count": 37,
   "metadata": {},
   "outputs": [
    {
     "name": "stdout",
     "output_type": "stream",
     "text": [
      "\n",
      "Some interesting quotes...\n",
      "\n",
      "http://www.postfun.com/pfp/worbois.html\n",
      "\n",
      "\n",
      "Thomas Jefferson:\n",
      "\n",
      "\"I have examined all the known superstitions of the word, and I do not\n",
      "find in our particular superstition of Christianity one redeeming feature.\n",
      "They are all alike founded on fables and mythology. Millions of innocent\n",
      "men, women and children, since the introduction of Christianity, have been\n",
      "burnt, tortured, fined and imprisoned. What has been the effect of this\n",
      "coercion? To make one half the world fools and the other half hypocrites;\n",
      "to support roguery and error all over the earth.\"\n",
      "\n",
      "SIX HISTORIC AMERICANS,\n",
      "by John E. Remsburg, letter to William Short\n",
      "Jefferson again:\n",
      "\n",
      "\"Christianity...(has become) the most perverted system that ever shone on\n",
      "man. ...Rogueries, absurdities and untruths were perpetrated upon the\n",
      "teachings of Jesus by a large band of dupes and importers led by Paul, the\n",
      "first great corrupter of the teaching of Jesus.\"\n",
      "\n",
      "\n",
      "\n"
     ]
    }
   ],
   "source": [
    "print(exampleX.get_content())"
   ]
  },
  {
   "cell_type": "code",
   "execution_count": 47,
   "metadata": {},
   "outputs": [
    {
     "data": {
      "text/plain": [
       "array([Counter({'the': 11, 'of': 9, 'and': 8, 'all': 3, 'christian': 3, 'to': 3, 'by': 3, 'jefferson': 2, 'i': 2, 'have': 2, 'superstit': 2, 'one': 2, 'on': 2, 'been': 2, 'ha': 2, 'half': 2, 'rogueri': 2, 'teach': 2, 'jesu': 2, 'some': 1, 'interest': 1, 'quot': 1, 'url': 1, 'thoma': 1, 'examin': 1, 'known': 1, 'word': 1, 'do': 1, 'not': 1, 'find': 1, 'in': 1, 'our': 1, 'particular': 1, 'redeem': 1, 'featur': 1, 'they': 1, 'are': 1, 'alik': 1, 'found': 1, 'fabl': 1, 'mytholog': 1, 'million': 1, 'innoc': 1, 'men': 1, 'women': 1, 'children': 1, 'sinc': 1, 'introduct': 1, 'burnt': 1, 'tortur': 1, 'fine': 1, 'imprison': 1, 'what': 1, 'effect': 1, 'thi': 1, 'coercion': 1, 'make': 1, 'world': 1, 'fool': 1, 'other': 1, 'hypocrit': 1, 'support': 1, 'error': 1, 'over': 1, 'earth': 1, 'six': 1, 'histor': 1, 'american': 1, 'john': 1, 'e': 1, 'remsburg': 1, 'letter': 1, 'william': 1, 'short': 1, 'again': 1, 'becom': 1, 'most': 1, 'pervert': 1, 'system': 1, 'that': 1, 'ever': 1, 'shone': 1, 'man': 1, 'absurd': 1, 'untruth': 1, 'were': 1, 'perpetr': 1, 'upon': 1, 'a': 1, 'larg': 1, 'band': 1, 'dupe': 1, 'import': 1, 'led': 1, 'paul': 1, 'first': 1, 'great': 1, 'corrupt': 1})],\n",
       "      dtype=object)"
      ]
     },
     "execution_count": 47,
     "metadata": {},
     "output_type": "execute_result"
    }
   ],
   "source": [
    "exampleX_wordcounter = EmailToWordCounterTransformer().fit_transform([exampleX]) \n",
    "exampleX_wordcounter"
   ]
  },
  {
   "cell_type": "markdown",
   "metadata": {},
   "source": [
    "### Word Counter to Vector Transformer\n",
    "\n",
    "Mr. Geron: \n",
    "\n",
    "\"*Now we have the word counts, and we need to convert them to vectors. For this, we will build another transformer whose `fit()` method will build the vocabulary (an ordered list of the most common words) and whose `transform()` method will use the vocabulary to convert word counts to vectors. The output is a sparse matrix.*\"\n"
   ]
  },
  {
   "cell_type": "code",
   "execution_count": 49,
   "metadata": {},
   "outputs": [],
   "source": [
    "from scipy.sparse import csr_matrix\n",
    "\n",
    "class WordCounterToVectorTransformer(BaseEstimator, TransformerMixin):\n",
    "    \n",
    "    def __init__(self, vocabulary_size=1000):\n",
    "        self.vocabulary_size = vocabulary_size\n",
    "    def fit(self, X, y=None):\n",
    "        total_count = Counter()\n",
    "        for word_count in X:\n",
    "            for word, count in word_count.items():\n",
    "                total_count[word] += min(count, 10)\n",
    "        most_common = total_count.most_common()[:self.vocabulary_size]\n",
    "        self.most_common_ = most_common\n",
    "        self.vocabulary_ = {word: index + 1 for index, (word, count) in enumerate(most_common)}\n",
    "        return self\n",
    "    def transform(self, X, y=None):\n",
    "        rows = []\n",
    "        cols = []\n",
    "        data = []\n",
    "        for row, word_count in enumerate(X):\n",
    "            for word, count in word_count.items():\n",
    "                rows.append(row)\n",
    "                cols.append(self.vocabulary_.get(word, 0))\n",
    "                data.append(count)\n",
    "        return csr_matrix((data, (rows, cols)), shape=(len(X), self.vocabulary_size + 1))"
   ]
  },
  {
   "cell_type": "code",
   "execution_count": null,
   "metadata": {},
   "outputs": [],
   "source": []
  },
  {
   "cell_type": "code",
   "execution_count": null,
   "metadata": {},
   "outputs": [],
   "source": []
  },
  {
   "cell_type": "code",
   "execution_count": null,
   "metadata": {},
   "outputs": [],
   "source": []
  },
  {
   "cell_type": "code",
   "execution_count": null,
   "metadata": {},
   "outputs": [],
   "source": []
  },
  {
   "cell_type": "code",
   "execution_count": null,
   "metadata": {},
   "outputs": [],
   "source": []
  },
  {
   "cell_type": "code",
   "execution_count": null,
   "metadata": {},
   "outputs": [],
   "source": []
  },
  {
   "cell_type": "code",
   "execution_count": null,
   "metadata": {},
   "outputs": [],
   "source": []
  }
 ],
 "metadata": {
  "kernelspec": {
   "display_name": "Python 3",
   "language": "python",
   "name": "python3"
  },
  "language_info": {
   "codemirror_mode": {
    "name": "ipython",
    "version": 3
   },
   "file_extension": ".py",
   "mimetype": "text/x-python",
   "name": "python",
   "nbconvert_exporter": "python",
   "pygments_lexer": "ipython3",
   "version": "3.7.3"
  }
 },
 "nbformat": 4,
 "nbformat_minor": 4
}
