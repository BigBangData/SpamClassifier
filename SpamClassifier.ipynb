{
 "cells": [
  {
   "cell_type": "markdown",
   "metadata": {},
   "source": [
    "# Spam Classifier Exercise \n",
    "\n",
    "Code often borrowed from [Aurélien Geron's famous Jupyter Notebooks](https://github.com/ageron/handson-ml/blob/master/03_classification.ipynb)\n",
    "\n",
    "Data can be pulled from [Apache SpamAssassin's old corpus](http://spamassassin.apache.org/old/publiccorpus/)\n",
    "\n",
    "### Data Ingestion"
   ]
  },
  {
   "cell_type": "code",
   "execution_count": 1,
   "metadata": {},
   "outputs": [],
   "source": [
    "import os\n",
    "import custom_functions as F # see custom module for code"
   ]
  },
  {
   "cell_type": "code",
   "execution_count": 2,
   "metadata": {},
   "outputs": [
    {
     "name": "stdout",
     "output_type": "stream",
     "text": [
      "Data successfully downloaded.\n"
     ]
    }
   ],
   "source": [
    "date = '20030228'\n",
    "\n",
    "F.get_data_if_needed('spam', 'easy_ham', date)"
   ]
  },
  {
   "cell_type": "code",
   "execution_count": 3,
   "metadata": {},
   "outputs": [
    {
     "name": "stdout",
     "output_type": "stream",
     "text": [
      "There are 2500 ham emails and 500 spam emails.\n"
     ]
    }
   ],
   "source": [
    "data_dir = 'data'\n",
    "spam_dir = os.path.join(data_dir, 'spam')\n",
    "ham_dir = os.path.join(data_dir, 'easy_ham')\n",
    "\n",
    "ham_filenames = [name for name in sorted(os.listdir(ham_dir)) if name != 'cmds']\n",
    "spam_filenames = [name for name in sorted(os.listdir(spam_dir)) if name != 'cmds']\n",
    "\n",
    "print('There are ' +str(len(ham_filenames)) + ' ham emails and ' + str(len(spam_filenames)) + ' spam emails.')"
   ]
  },
  {
   "cell_type": "code",
   "execution_count": 4,
   "metadata": {},
   "outputs": [],
   "source": [
    "# extracting emails\n",
    "spam = F.extract_emails(_path=spam_dir, _names=spam_filenames)\n",
    "ham = F.extract_emails(_path=ham_dir, _names=ham_filenames)"
   ]
  },
  {
   "cell_type": "code",
   "execution_count": 5,
   "metadata": {},
   "outputs": [
    {
     "name": "stdout",
     "output_type": "stream",
     "text": [
      "To: zzzzteana@yahoogroups.com\n",
      "From: Martin Adamson <martin@srv0.ems.ed.ac.uk>\n",
      "Subject: [zzzzteana] Playboy wants to go out with a bang\n",
      "Date: Thu, 22 Aug 2002 14:54:25 +0100\n",
      "Content-Type: text/plain; charset=\"ISO-8859-1\"\n"
     ]
    }
   ],
   "source": [
    "# ex ham header\n",
    "F.print_header(ham[6])"
   ]
  },
  {
   "cell_type": "code",
   "execution_count": 6,
   "metadata": {},
   "outputs": [
    {
     "name": "stdout",
     "output_type": "stream",
     "text": [
      "To: zzzz-sa-listinfo@spamassassin.taint.org\n",
      "From: \"Dr.James Ologun\" <jamesalabi@mail.com>\n",
      "Subject: Immediate Reply Needed\n",
      "Date: Sat, 24 Aug 2002 20:18:02 -0700\n",
      "Content-Type: text/plain; charset=\"us-ascii\"\n"
     ]
    }
   ],
   "source": [
    "# ex spam header\n",
    "F.print_header(spam[83])"
   ]
  },
  {
   "cell_type": "code",
   "execution_count": 7,
   "metadata": {},
   "outputs": [
    {
     "name": "stdout",
     "output_type": "stream",
     "text": [
      "Hello, have you seen and discussed this article and his approach?\n",
      "\n",
      "Thank you\n",
      "\n",
      "http://www.paulgraham.com/spam.html\n",
      "-- \"Hell, there are no rules here-- we're trying to accomplish something.\"\n",
      "-- Thomas Alva Edison\n",
      "\n",
      "\n",
      "\n",
      "\n",
      "-------------------------------------------------------\n",
      "This sf.net email is sponsored by: OSDN - Tired of that same old\n",
      "cell phone?  Get a new here for FREE!\n",
      "https://www.inphonic.com/r.asp?r=sourceforge1&refcode1=vs3390\n",
      "_______________________________________________\n",
      "Spamassassin-devel mailing list\n",
      "Spamassassin-devel@lists.sourceforge.net\n",
      "https://lists.sourceforge.net/lists/listinfo/spamassassin-devel\n"
     ]
    }
   ],
   "source": [
    "# ex ham\n",
    "print(ham[10].get_content().strip())"
   ]
  },
  {
   "cell_type": "code",
   "execution_count": 17,
   "metadata": {},
   "outputs": [
    {
     "data": {
      "text/plain": [
       "[<email.message.EmailMessage at 0x17260649780>,\n",
       " <email.message.EmailMessage at 0x17260640c88>]"
      ]
     },
     "execution_count": 17,
     "metadata": {},
     "output_type": "execute_result"
    }
   ],
   "source": [
    "# email structures can be complex\n",
    "\n",
    "# payload can return single email or a list of objects\n",
    "ham[13].get_payload()"
   ]
  },
  {
   "cell_type": "code",
   "execution_count": 20,
   "metadata": {},
   "outputs": [
    {
     "name": "stdout",
     "output_type": "stream",
     "text": [
      "text/plain\n",
      "application/pgp-signature\n"
     ]
    }
   ],
   "source": [
    "for email in ham[13].get_payload():\n",
    "    print(email.get_content_type())"
   ]
  },
  {
   "cell_type": "code",
   "execution_count": 21,
   "metadata": {},
   "outputs": [
    {
     "name": "stdout",
     "output_type": "stream",
     "text": [
      "('text/plain', 2408)\n",
      "('multipart(text/plain | application/pgp-signature)', 66)\n",
      "('multipart(text/plain | text/html)', 8)\n",
      "('multipart(text/plain | text/plain)', 4)\n",
      "('multipart(text/plain)', 3)\n",
      "('multipart(text/plain | application/octet-stream)', 2)\n",
      "('multipart(text/plain | text/enriched)', 1)\n",
      "('multipart(text/plain | application/ms-tnef | text/plain)', 1)\n",
      "('multipart(multipart(text/plain | text/plain | text/plain) | application/pgp-signature)', 1)\n",
      "('multipart(text/plain | video/mng)', 1)\n",
      "('multipart(text/plain | multipart(text/plain))', 1)\n",
      "('multipart(text/plain | application/x-pkcs7-signature)', 1)\n",
      "('multipart(text/plain | multipart(text/plain | text/plain) | text/rfc822-headers)', 1)\n",
      "('multipart(text/plain | multipart(text/plain | text/plain) | multipart(multipart(text/plain | application/x-pkcs7-signature)))', 1)\n",
      "('multipart(text/plain | application/x-java-applet)', 1)\n"
     ]
    }
   ],
   "source": [
    "# using Mr.Geron's fancy structure counters\n",
    "for i in F.structures_counter(ham).most_common():\n",
    "    print(i)"
   ]
  },
  {
   "cell_type": "code",
   "execution_count": 22,
   "metadata": {},
   "outputs": [
    {
     "name": "stdout",
     "output_type": "stream",
     "text": [
      "('text/plain', 218)\n",
      "('text/html', 183)\n",
      "('multipart(text/plain | text/html)', 45)\n",
      "('multipart(text/html)', 20)\n",
      "('multipart(text/plain)', 19)\n",
      "('multipart(multipart(text/html))', 5)\n",
      "('multipart(text/plain | image/jpeg)', 3)\n",
      "('multipart(text/html | application/octet-stream)', 2)\n",
      "('multipart(text/plain | application/octet-stream)', 1)\n",
      "('multipart(text/html | text/plain)', 1)\n",
      "('multipart(multipart(text/html) | application/octet-stream | image/jpeg)', 1)\n",
      "('multipart(multipart(text/plain | text/html) | image/gif)', 1)\n",
      "('multipart/alternative', 1)\n"
     ]
    }
   ],
   "source": [
    "for i in F.structures_counter(spam).most_common():\n",
    "    print(i)"
   ]
  },
  {
   "cell_type": "markdown",
   "metadata": {},
   "source": [
    "There's a preponderance of html in spam, and pgp-signatures only in ham, as Mr.Geron notes."
   ]
  },
  {
   "cell_type": "code",
   "execution_count": null,
   "metadata": {},
   "outputs": [],
   "source": []
  }
 ],
 "metadata": {
  "kernelspec": {
   "display_name": "Python 3",
   "language": "python",
   "name": "python3"
  },
  "language_info": {
   "codemirror_mode": {
    "name": "ipython",
    "version": 3
   },
   "file_extension": ".py",
   "mimetype": "text/x-python",
   "name": "python",
   "nbconvert_exporter": "python",
   "pygments_lexer": "ipython3",
   "version": "3.7.3"
  }
 },
 "nbformat": 4,
 "nbformat_minor": 4
}
