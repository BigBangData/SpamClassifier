{
 "cells": [
  {
   "cell_type": "code",
   "execution_count": 129,
   "metadata": {},
   "outputs": [],
   "source": [
    "def download_data():\n",
    "\n",
    "    import os\n",
    "    import tarfile\n",
    "    import requests\n",
    " \n",
    "    if os.path.isdir('data'):\n",
    "        pass\n",
    "    else:\n",
    "        os.mkdir('data')\n",
    "        \n",
    "    _head = 'http://spamassassin.apache.org/old/publiccorpus/'\n",
    "    _spam = ''.join([_head, '20030228_spam.tar.bz2'])\n",
    "    _ham = ''.join([_head, '20030228_easy_ham.tar.bz2'])\n",
    "    \n",
    "    \n",
    "    for _url in _spam, _ham:\n",
    "        \n",
    "        # extract dir name from _url\n",
    "        _dir = _url.split('/')[len(_url.split('/'))-1].split('.')[0]\n",
    "        _filepath = os.path.join('data', _dir)\n",
    "        \n",
    "        try:\n",
    "            r = requests.get(_url)\n",
    "            \n",
    "            if r.status_code == 200:\n",
    "                print('Downloading ' + _dir + '...')\n",
    "            else:\n",
    "                print('Request failed with error status code: ' + str(r.status_code) +'\\n')\n",
    "        except:\n",
    "            print('Request error.\\n')\n",
    "            continue\n",
    "        \n",
    "        try:\n",
    "            f = open(_filepath, 'wb')\n",
    "            f.write(r.content)\n",
    "            f.close()\n",
    "            print('Saving data...')\n",
    "        except:\n",
    "            print('Failed writing to folders.\\n')\n",
    "            continue\n",
    "        \n",
    "        try:\n",
    "            t = tarfile.open(_filepath, 'r:bz2')\n",
    "            t.extractall('data')\n",
    "            t.close()\n",
    "            os.remove(_filepath)\n",
    "            print('Extracting files...\\n')\n",
    "        except:\n",
    "            print('Failed extracting files.\\n')\n",
    "            continue"
   ]
  },
  {
   "cell_type": "code",
   "execution_count": 130,
   "metadata": {},
   "outputs": [
    {
     "name": "stdout",
     "output_type": "stream",
     "text": [
      "Downloading 20030228_spam...\n",
      "Saving data...\n",
      "Extracting files...\n",
      "\n",
      "Downloading 20030228_easy_ham...\n",
      "Saving data...\n",
      "Extracting files...\n",
      "\n"
     ]
    }
   ],
   "source": [
    "download_data()"
   ]
  },
  {
   "cell_type": "code",
   "execution_count": 140,
   "metadata": {},
   "outputs": [
    {
     "name": "stdout",
     "output_type": "stream",
     "text": [
      "# of files in easy_ham: 2501\n",
      "# of files in spam: 501\n"
     ]
    }
   ],
   "source": [
    "for _dir in os.listdir('data'):\n",
    "    print('# of files in ' +_dir +': ' + str(len(os.listdir(os.path.join('data',_dir)))))"
   ]
  },
  {
   "cell_type": "code",
   "execution_count": null,
   "metadata": {},
   "outputs": [],
   "source": []
  }
 ],
 "metadata": {
  "kernelspec": {
   "display_name": "Python 3",
   "language": "python",
   "name": "python3"
  },
  "language_info": {
   "codemirror_mode": {
    "name": "ipython",
    "version": 3
   },
   "file_extension": ".py",
   "mimetype": "text/x-python",
   "name": "python",
   "nbconvert_exporter": "python",
   "pygments_lexer": "ipython3",
   "version": "3.7.3"
  }
 },
 "nbformat": 4,
 "nbformat_minor": 4
}
