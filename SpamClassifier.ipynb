{
 "cells": [
  {
   "cell_type": "markdown",
   "metadata": {},
   "source": [
    "# Spam Classifier Exercise \n",
    "\n",
    "Code often borrowed from [Aurélien Geron's famous Jupyter Notebooks](https://github.com/ageron/handson-ml/blob/master/03_classification.ipynb)\n",
    "\n",
    "Data can be pulled from [Apache SpamAssassin's old corpus](http://spamassassin.apache.org/old/publiccorpus/)\n",
    "\n",
    "### Data Ingestion"
   ]
  },
  {
   "cell_type": "code",
   "execution_count": 71,
   "metadata": {},
   "outputs": [],
   "source": [
    "import os\n",
    "import custom_functions as F # see custom module for code"
   ]
  },
  {
   "cell_type": "code",
   "execution_count": 72,
   "metadata": {},
   "outputs": [
    {
     "name": "stdout",
     "output_type": "stream",
     "text": [
      "Data already exists.\n"
     ]
    }
   ],
   "source": [
    "spam = 'spam'\n",
    "ham = 'easy_ham'\n",
    "date = '20030228'\n",
    "\n",
    "F.get_data_if_needed(spam, ham, date)"
   ]
  },
  {
   "cell_type": "code",
   "execution_count": 73,
   "metadata": {},
   "outputs": [
    {
     "data": {
      "text/plain": [
       "(2500, 500)"
      ]
     },
     "execution_count": 73,
     "metadata": {},
     "output_type": "execute_result"
    }
   ],
   "source": [
    "data_dir = 'data'\n",
    "spam_dir = os.path.join(data_dir, spam)\n",
    "ham_dir = os.path.join(data_dir, ham)\n",
    "\n",
    "ham_filenames = [name for name in sorted(os.listdir(ham_dir)) if name != 'cmds']\n",
    "spam_filenames = [name for name in sorted(os.listdir(spam_dir)) if name != 'cmds']\n",
    "\n",
    "len(ham_filenames), len(spam_filenames)"
   ]
  },
  {
   "cell_type": "code",
   "execution_count": 74,
   "metadata": {},
   "outputs": [],
   "source": [
    "import email\n",
    "import email.policy\n",
    "\n",
    "def load_email(is_spam, filename):\n",
    "    _dir = spam_dir if is_spam else ham_dir\n",
    "    with open(os.path.join(_dir, filename), 'rb') as fp:\n",
    "        return(email.parser.BytesParser(policy=email.policy.default).parse(fp))"
   ]
  },
  {
   "cell_type": "code",
   "execution_count": 75,
   "metadata": {},
   "outputs": [],
   "source": [
    "ham_emails = [load_email(is_spam=False, filename=name) for name in ham_filenames]\n",
    "spam_emails = [load_email(is_spam=True, filename=name) for name in spam_filenames]\n"
   ]
  },
  {
   "cell_type": "code",
   "execution_count": 76,
   "metadata": {},
   "outputs": [],
   "source": [
    "ham_ex = ham_emails[0]\n",
    "spam_ex = spam_emails[0]"
   ]
  },
  {
   "cell_type": "code",
   "execution_count": 77,
   "metadata": {},
   "outputs": [
    {
     "name": "stdout",
     "output_type": "stream",
     "text": [
      "To: \"'zzzzteana@yahoogroups.com'\" <zzzzteana@yahoogroups.com>\n",
      "From: Steve Burt <Steve_Burt@cursor-system.com>\n",
      "Subject: [zzzzteana] RE: Alexander\n",
      "Date: Thu, 22 Aug 2002 12:46:18 +0100\n",
      "Content-Type: text/plain; charset=\"US-ASCII\"\n"
     ]
    }
   ],
   "source": [
    "print('To: {}'.format(msg['to']))\n",
    "print('From: {}'.format(msg['from']))\n",
    "print('Subject: {}'.format(msg['subject']))\n",
    "print('Date: {}'.format(msg['Date']))\n",
    "print('Content-Type: {}'.format(msg['Content-Type']))"
   ]
  },
  {
   "cell_type": "code",
   "execution_count": 79,
   "metadata": {},
   "outputs": [
    {
     "name": "stdout",
     "output_type": "stream",
     "text": [
      "    Date:        Wed, 21 Aug 2002 10:54:46 -0500\n",
      "    From:        Chris Garrigues <cwg-dated-1030377287.06fa6d@DeepEddy.Com>\n",
      "    Message-ID:  <1029945287.4797.TMDA@deepeddy.vircio.com>\n",
      "\n",
      "\n",
      "  | I can't reproduce this error.\n",
      "\n",
      "For me it is very repeatable... (like every time, without fail).\n",
      "\n",
      "This is the debug log of the pick happening ...\n",
      "\n",
      "18:19:03 Pick_It {exec pick +inbox -list -lbrace -lbrace -subject ftp -rbrace -rbrace} {4852-4852 -sequence mercury}\n",
      "18:19:03 exec pick +inbox -list -lbrace -lbrace -subject ftp -rbrace -rbrace 4852-4852 -sequence mercury\n",
      "18:19:04 Ftoc_PickMsgs {{1 hit}}\n",
      "18:19:04 Marking 1 hits\n",
      "18:19:04 tkerror: syntax error in expression \"int ...\n",
      "\n",
      "Note, if I run the pick command by hand ...\n",
      "\n",
      "delta$ pick +inbox -list -lbrace -lbrace -subject ftp -rbrace -rbrace  4852-4852 -sequence mercury\n",
      "1 hit\n",
      "\n",
      "That's where the \"1 hit\" comes from (obviously).  The version of nmh I'm\n",
      "using is ...\n",
      "\n",
      "delta$ pick -version\n",
      "pick -- nmh-1.0.4 [compiled on fuchsia.cs.mu.OZ.AU at Sun Mar 17 14:55:56 ICT 2002]\n",
      "\n",
      "And the relevant part of my .mh_profile ...\n",
      "\n",
      "delta$ mhparam pick\n",
      "-seq sel -list\n",
      "\n",
      "\n",
      "Since the pick command works, the sequence (actually, both of them, the\n",
      "one that's explicit on the command line, from the search popup, and the\n",
      "one that comes from .mh_profile) do get created.\n",
      "\n",
      "kre\n",
      "\n",
      "ps: this is still using the version of the code form a day ago, I haven't\n",
      "been able to reach the cvs repository today (local routing issue I think).\n",
      "\n",
      "\n",
      "\n",
      "_______________________________________________\n",
      "Exmh-workers mailing list\n",
      "Exmh-workers@redhat.com\n",
      "https://listman.redhat.com/mailman/listinfo/exmh-workers\n",
      "\n",
      "\n"
     ]
    }
   ],
   "source": [
    "print(ham_ex.get_content())"
   ]
  },
  {
   "cell_type": "code",
   "execution_count": 126,
   "metadata": {},
   "outputs": [
    {
     "name": "stdout",
     "output_type": "stream",
     "text": [
      "13 True\n",
      "61 True\n",
      "62 True\n",
      "66 True\n",
      "69 True\n",
      "165 True\n",
      "367 True\n",
      "385 True\n",
      "386 True\n",
      "387 True\n",
      "388 True\n",
      "577 True\n",
      "703 True\n",
      "774 True\n",
      "848 True\n",
      "882 True\n",
      "943 True\n",
      "944 True\n",
      "946 True\n",
      "947 True\n",
      "948 True\n",
      "951 True\n",
      "960 True\n",
      "962 True\n",
      "963 True\n",
      "965 True\n",
      "967 True\n",
      "974 True\n",
      "985 True\n",
      "987 True\n",
      "992 True\n",
      "996 True\n",
      "1002 True\n",
      "1028 True\n",
      "1044 True\n",
      "1052 True\n",
      "1064 True\n",
      "1066 True\n",
      "1068 True\n",
      "1093 True\n",
      "1095 True\n",
      "1126 True\n",
      "1128 True\n",
      "1129 True\n",
      "1130 True\n",
      "1131 True\n",
      "1135 True\n",
      "1136 True\n",
      "1147 True\n",
      "1148 True\n",
      "1151 True\n",
      "1158 True\n",
      "1161 True\n",
      "1167 True\n",
      "1169 True\n",
      "1180 True\n",
      "1182 True\n",
      "1215 True\n",
      "1224 True\n",
      "1232 True\n",
      "1293 True\n",
      "1313 True\n",
      "1335 True\n",
      "1352 True\n",
      "1357 True\n",
      "1391 True\n",
      "1396 True\n",
      "1402 True\n",
      "1405 True\n",
      "1424 True\n",
      "1435 True\n",
      "1445 True\n",
      "1447 True\n",
      "1467 True\n",
      "1468 True\n",
      "1472 True\n",
      "1473 True\n",
      "1475 True\n",
      "1490 True\n",
      "1508 True\n",
      "1541 True\n",
      "1557 True\n",
      "1560 True\n",
      "1564 True\n",
      "1566 True\n",
      "1569 True\n",
      "1570 True\n",
      "1590 True\n",
      "1604 True\n",
      "1608 True\n",
      "1609 True\n",
      "1622 True\n"
     ]
    }
   ],
   "source": [
    "islist = [isinstance(email.get_payload(), list) for email in ham_emails]\n",
    "\n",
    "for e, i in enumerate(islist):\n",
    "    if i:\n",
    "        print(e, i)"
   ]
  },
  {
   "cell_type": "code",
   "execution_count": 122,
   "metadata": {},
   "outputs": [
    {
     "data": {
      "text/plain": [
       "True"
      ]
     },
     "execution_count": 122,
     "metadata": {},
     "output_type": "execute_result"
    }
   ],
   "source": [
    "isinstance(ham_emails[13].get_payload(), list)"
   ]
  },
  {
   "cell_type": "code",
   "execution_count": 128,
   "metadata": {},
   "outputs": [
    {
     "data": {
      "text/plain": [
       "[<email.message.EmailMessage at 0x2a307c0cba8>,\n",
       " <email.message.EmailMessage at 0x2a309fe1d68>]"
      ]
     },
     "execution_count": 128,
     "metadata": {},
     "output_type": "execute_result"
    }
   ],
   "source": [
    "ham_emails[13].get_payload()"
   ]
  },
  {
   "cell_type": "code",
   "execution_count": 142,
   "metadata": {},
   "outputs": [
    {
     "data": {
      "text/plain": [
       "'text/plain'"
      ]
     },
     "execution_count": 142,
     "metadata": {},
     "output_type": "execute_result"
    }
   ],
   "source": [
    "ham_emails[13].get_payload()[0].get_content_type()"
   ]
  },
  {
   "cell_type": "code",
   "execution_count": 143,
   "metadata": {},
   "outputs": [
    {
     "data": {
      "text/plain": [
       "'application/pgp-signature'"
      ]
     },
     "execution_count": 143,
     "metadata": {},
     "output_type": "execute_result"
    }
   ],
   "source": [
    "ham_emails[13].get_payload()[1].get_content_type()"
   ]
  },
  {
   "cell_type": "code",
   "execution_count": 153,
   "metadata": {},
   "outputs": [],
   "source": [
    "def get_email_structure(email):\n",
    "\n",
    "    payload = email.get_payload()\n",
    "    \n",
    "    if isinstance(payload, list):\n",
    "        return \"multipart({})\".format(\" | \".join([\n",
    "            get_email_structure(sub_email)\n",
    "            for sub_email in payload\n",
    "        ]))\n",
    "    else:\n",
    "        return email.get_content_type()"
   ]
  },
  {
   "cell_type": "code",
   "execution_count": 154,
   "metadata": {},
   "outputs": [],
   "source": [
    "from collections import Counter\n",
    "\n",
    "def structures_counter(emails):\n",
    "    structures = Counter()\n",
    "    for email in emails:\n",
    "        structure = get_email_structure(email)\n",
    "        structures[structure] += 1\n",
    "    return structures"
   ]
  },
  {
   "cell_type": "code",
   "execution_count": 174,
   "metadata": {},
   "outputs": [
    {
     "name": "stdout",
     "output_type": "stream",
     "text": [
      "('text/plain', 2408)\n",
      "('multipart(text/plain | application/pgp-signature)', 66)\n",
      "('multipart(text/plain | text/html)', 8)\n",
      "('multipart(text/plain | text/plain)', 4)\n",
      "('multipart(text/plain)', 3)\n",
      "('multipart(text/plain | application/octet-stream)', 2)\n",
      "('multipart(text/plain | text/enriched)', 1)\n",
      "('multipart(text/plain | application/ms-tnef | text/plain)', 1)\n",
      "('multipart(multipart(text/plain | text/plain | text/plain) | application/pgp-signature)', 1)\n",
      "('multipart(text/plain | video/mng)', 1)\n",
      "('multipart(text/plain | multipart(text/plain))', 1)\n",
      "('multipart(text/plain | application/x-pkcs7-signature)', 1)\n",
      "('multipart(text/plain | multipart(text/plain | text/plain) | text/rfc822-headers)', 1)\n",
      "('multipart(text/plain | multipart(text/plain | text/plain) | multipart(multipart(text/plain | application/x-pkcs7-signature)))', 1)\n",
      "('multipart(text/plain | application/x-java-applet)', 1)\n"
     ]
    }
   ],
   "source": [
    "for i in structures_counter(ham_emails).most_common():\n",
    "    print(i)"
   ]
  },
  {
   "cell_type": "code",
   "execution_count": 175,
   "metadata": {},
   "outputs": [
    {
     "name": "stdout",
     "output_type": "stream",
     "text": [
      "('text/plain', 218)\n",
      "('text/html', 183)\n",
      "('multipart(text/plain | text/html)', 45)\n",
      "('multipart(text/html)', 20)\n",
      "('multipart(text/plain)', 19)\n",
      "('multipart(multipart(text/html))', 5)\n",
      "('multipart(text/plain | image/jpeg)', 3)\n",
      "('multipart(text/html | application/octet-stream)', 2)\n",
      "('multipart(text/plain | application/octet-stream)', 1)\n",
      "('multipart(text/html | text/plain)', 1)\n",
      "('multipart(multipart(text/html) | application/octet-stream | image/jpeg)', 1)\n",
      "('multipart(multipart(text/plain | text/html) | image/gif)', 1)\n",
      "('multipart/alternative', 1)\n"
     ]
    }
   ],
   "source": [
    "for i in structures_counter(spam_emails).most_common():\n",
    "    print(i)"
   ]
  },
  {
   "cell_type": "code",
   "execution_count": null,
   "metadata": {},
   "outputs": [],
   "source": []
  }
 ],
 "metadata": {
  "kernelspec": {
   "display_name": "Python 3",
   "language": "python",
   "name": "python3"
  },
  "language_info": {
   "codemirror_mode": {
    "name": "ipython",
    "version": 3
   },
   "file_extension": ".py",
   "mimetype": "text/x-python",
   "name": "python",
   "nbconvert_exporter": "python",
   "pygments_lexer": "ipython3",
   "version": "3.7.3"
  }
 },
 "nbformat": 4,
 "nbformat_minor": 4
}
